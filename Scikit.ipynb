{
  "nbformat": 4,
  "nbformat_minor": 0,
  "metadata": {
    "colab": {
      "provenance": [],
      "include_colab_link": true
    },
    "kernelspec": {
      "name": "python3",
      "display_name": "Python 3"
    },
    "language_info": {
      "name": "python"
    }
  },
  "cells": [
    {
      "cell_type": "markdown",
      "metadata": {
        "id": "view-in-github",
        "colab_type": "text"
      },
      "source": [
        "<a href=\"https://colab.research.google.com/github/JoyNjihia/WEEK-3-AI-FOR-S.E-ASSIGNMENT/blob/main/Scikit.ipynb\" target=\"_parent\"><img src=\"https://colab.research.google.com/assets/colab-badge.svg\" alt=\"Open In Colab\"/></a>"
      ]
    },
    {
      "cell_type": "code",
      "execution_count": null,
      "metadata": {
        "id": "pntRor347xYL"
      },
      "outputs": [],
      "source": [
        "# To begin the model training of Iris dataset, we must first import the necessary libraries that support the model training\n",
        "# import sklearn libraries and numpy\n",
        "\n",
        "import numpy as np\n",
        "\n",
        "# import the iris dataset from sklearn module. Here, we are loading the data\n",
        "from sklearn.datasets import load_iris\n",
        "\n",
        "# import the classifier(the machine learning model used to categorize or label data into classes)\n",
        "# Is the classification_report a model or a function? It's actually the core machine learning model for supervised learning.\n",
        "from sklearn.linear_model import LogisticRegression\n",
        "\n",
        "# There's no need to rush, but we have to import all the necessary libraries at the top of the python file.\n",
        "# So, we'll import our 'train-test splitter function.'\n",
        "# This is because we need to split the data into two -- some used to train the model, and some used to test the model's accuracy. \"\"\"\n",
        "from sklearn.model_selection import train_test_split\n",
        "\n",
        "# Finally, to evaluate our model, we need ot import an evaluation function\n",
        "from sklearn.metrics import classification_report"
      ]
    },
    {
      "cell_type": "code",
      "source": [],
      "metadata": {
        "id": "wvxdLvXe-EFx"
      },
      "execution_count": null,
      "outputs": []
    }
  ]
}